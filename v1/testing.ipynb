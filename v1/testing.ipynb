{
 "cells": [
  {
   "cell_type": "code",
   "execution_count": 1,
   "metadata": {},
   "outputs": [],
   "source": [
    "import numpy as np\n",
    "import matplotlib.pyplot as plt\n",
    "from ellipse_projection_v1 import EllipseCalculator\n",
    "from data_analysis_v1 import StatsCalculator"
   ]
  },
  {
   "cell_type": "code",
   "execution_count": 2,
   "metadata": {},
   "outputs": [],
   "source": [
    "SC = StatsCalculator(\"sample_data.csv\")\n",
    "EC = EllipseCalculator(SC)"
   ]
  },
  {
   "cell_type": "markdown",
   "metadata": {},
   "source": [
    "\n",
    "<br>\n",
    "test_axes = np.array(<br>\n",
    "    [<br>\n",
    "        [6, 0, 2, 1, 0, 7],<br>\n",
    "        [1, 5, 0, 3, 0, 3],<br>\n",
    "        [0, 1, 9, 4, 2, 2],<br>\n",
    "        [1, 2, 0, 6, 1, 0],<br>\n",
    "        [6, 0, 0, 0, 0, 0],<br>\n",
    "        [0, 0, 7, 0, 8, 3]<br>\n",
    "    ]<br>\n",
    ")<br>\n",
    "A = np.array(<br>\n",
    "    [<br>\n",
    "        [1, 0, 0, 0, 0, 0],<br>\n",
    "        [0, 2, 0, 0, 0, 0],<br>\n",
    "        [0, 0, 3, 0, 0, 0],<br>\n",
    "        [0, 0, 0, 4, 0, 0],<br>\n",
    "        [0, 0, 0, 0, 5, 0],<br>\n",
    "        [0, 0, 0, 0, 0, 6]<br>\n",
    "    ]<br>\n",
    ")<br>\n"
   ]
  },
  {
   "cell_type": "markdown",
   "metadata": {},
   "source": [
    "C.set_ellipsoid(SC.get_covariance())"
   ]
  },
  {
   "cell_type": "markdown",
   "metadata": {},
   "source": [
    "C.apply_new_rotation((1, 3), np.pi/4)<br>\n",
    "C.apply_new_rotation((0, 5), np.pi/6)<br>\n",
    "C.apply_new_rotation((0, 1), np.pi)"
   ]
  },
  {
   "cell_type": "code",
   "execution_count": 3,
   "metadata": {},
   "outputs": [
    {
     "name": "stdout",
     "output_type": "stream",
     "text": [
      "*** Ellipse Calculator at 4413897360 *** \n",
      "Original ellipsoid: \n",
      "[[ 7.00000e-02 -4.00000e-02  1.08400e+01  2.90000e-01 -4.39000e+00\n",
      "   2.90000e-01]\n",
      " [-4.00000e-02  4.43000e+00 -6.91800e+01  2.19000e+00  1.22600e+01\n",
      "  -3.67000e+00]\n",
      " [ 1.08400e+01 -6.91800e+01  5.77016e+03  1.61320e+03 -7.85230e+02\n",
      "   3.53000e+02]\n",
      " [ 2.90000e-01  2.19000e+00  1.61320e+03  1.86324e+03  2.49000e+02\n",
      "   1.12050e+02]\n",
      " [-4.39000e+00  1.22600e+01 -7.85230e+02  2.49000e+02  5.46410e+02\n",
      "  -2.81700e+01]\n",
      " [ 2.90000e-01 -3.67000e+00  3.53000e+02  1.12050e+02 -2.81700e+01\n",
      "   3.16700e+01]]\n",
      "\n",
      "Rotations applied, matrix form: \n",
      "[[1. 0. 0. 0. 0. 0.]\n",
      " [0. 1. 0. 0. 0. 0.]\n",
      " [0. 0. 1. 0. 0. 0.]\n",
      " [0. 0. 0. 1. 0. 0.]\n",
      " [0. 0. 0. 0. 1. 0.]\n",
      " [0. 0. 0. 0. 0. 1.]]\n",
      "\n",
      "Resulting ellipsoid: \n",
      "[[ 7.00000e-02 -4.00000e-02  1.08400e+01  2.90000e-01 -4.39000e+00\n",
      "   2.90000e-01]\n",
      " [-4.00000e-02  4.43000e+00 -6.91800e+01  2.19000e+00  1.22600e+01\n",
      "  -3.67000e+00]\n",
      " [ 1.08400e+01 -6.91800e+01  5.77016e+03  1.61320e+03 -7.85230e+02\n",
      "   3.53000e+02]\n",
      " [ 2.90000e-01  2.19000e+00  1.61320e+03  1.86324e+03  2.49000e+02\n",
      "   1.12050e+02]\n",
      " [-4.39000e+00  1.22600e+01 -7.85230e+02  2.49000e+02  5.46410e+02\n",
      "  -2.81700e+01]\n",
      " [ 2.90000e-01 -3.67000e+00  3.53000e+02  1.12050e+02 -2.81700e+01\n",
      "   3.16700e+01]]\n",
      "\n",
      "x-axis biases: \n",
      "{'\\ufeffattr0': 100.0}\n",
      "y-axis biases: \n",
      "{'attr1': 100.0}\n",
      "\n",
      "Ellipse projected onto these axes: \n",
      "0.02x^2 + 0.23xy + 3.17y^2 = 1\n",
      "\n"
     ]
    }
   ],
   "source": [
    "print(EC)\n",
    "#print(EC.__attribute_names)\n",
    "x_bias = {\"attr1\": 50, \"attr2\": 50}\n",
    "y_bias = {\"attr5\": 100}"
   ]
  },
  {
   "cell_type": "code",
   "execution_count": 4,
   "metadata": {},
   "outputs": [
    {
     "name": "stdout",
     "output_type": "stream",
     "text": [
      "[50  0 50  0  0  0]\n",
      "[  0 100   0   0   0   0]\n",
      "*** Ellipse Calculator at 4413897360 *** \n",
      "Original ellipsoid: \n",
      "[[ 4.43000e+00 -3.67000e+00 -6.91800e+01  2.19000e+00  1.22600e+01\n",
      "  -4.00000e-02]\n",
      " [-3.67000e+00  3.16700e+01  3.53000e+02  1.12050e+02 -2.81700e+01\n",
      "   2.90000e-01]\n",
      " [-6.91800e+01  3.53000e+02  5.77016e+03  1.61320e+03 -7.85230e+02\n",
      "   1.08400e+01]\n",
      " [ 2.19000e+00  1.12050e+02  1.61320e+03  1.86324e+03  2.49000e+02\n",
      "   2.90000e-01]\n",
      " [ 1.22600e+01 -2.81700e+01 -7.85230e+02  2.49000e+02  5.46410e+02\n",
      "  -4.39000e+00]\n",
      " [-4.00000e-02  2.90000e-01  1.08400e+01  2.90000e-01 -4.39000e+00\n",
      "   7.00000e-02]]\n",
      "\n",
      "Rotations applied, matrix form: \n",
      "[[ 0.71  0.   -0.71  0.    0.    0.  ]\n",
      " [ 0.    1.    0.    0.    0.    0.  ]\n",
      " [ 0.71  0.    0.71  0.    0.    0.  ]\n",
      " [ 0.    0.    0.    1.    0.    0.  ]\n",
      " [ 0.    0.    0.    0.    1.    0.  ]\n",
      " [ 0.    0.    0.    0.    0.    1.  ]]\n",
      "\n",
      "Resulting ellipsoid: \n",
      "[[ 2.81812e+03  2.47010e+02  2.88286e+03  1.14225e+03 -5.46570e+02\n",
      "   7.63000e+00]\n",
      " [ 2.47010e+02  3.16700e+01  2.52200e+02  1.12050e+02 -2.81700e+01\n",
      "   2.90000e-01]\n",
      " [ 2.88286e+03  2.52200e+02  2.95648e+03  1.13916e+03 -5.63910e+02\n",
      "   7.70000e+00]\n",
      " [ 1.14225e+03  1.12050e+02  1.13916e+03  1.86324e+03  2.49000e+02\n",
      "   2.90000e-01]\n",
      " [-5.46570e+02 -2.81700e+01 -5.63910e+02  2.49000e+02  5.46410e+02\n",
      "  -4.39000e+00]\n",
      " [ 7.63000e+00  2.90000e-01  7.70000e+00  2.90000e-01 -4.39000e+00\n",
      "   7.00000e-02]]\n",
      "\n",
      "x-axis biases: \n",
      "{'attr1': 50.000000000000014, 'attr2': 50.000000000000014}\n",
      "y-axis biases: \n",
      "{'attr5': 100.0}\n",
      "\n",
      "Ellipse projected onto these axes: \n",
      "5.42x^2 + 4.73xy + 7.17y^2 = 1\n",
      "\n"
     ]
    },
    {
     "data": {
      "image/png": "[encoded data removed]",
      "text/plain": [
       "<Figure size 640x480 with 1 Axes>"
      ]
     },
     "metadata": {},
     "output_type": "display_data"
    }
   ],
   "source": [
    "EC.set_axis_bias(x_bias, y_bias)\n",
    "print(EC)\n",
    "EC.plot_on_plane()"
   ]
  }
 ],
 "metadata": {
  "kernelspec": {
   "display_name": "Python 3 (ipykernel)",
   "language": "python",
   "name": "python3"
  },
  "language_info": {
   "codemirror_mode": {
    "name": "ipython",
    "version": 3
   },
   "file_extension": ".py",
   "mimetype": "text/x-python",
   "name": "python",
   "nbconvert_exporter": "python",
   "pygments_lexer": "ipython3",
   "version": "3.11.3"
  }
 },
 "nbformat": 4,
 "nbformat_minor": 2
}
